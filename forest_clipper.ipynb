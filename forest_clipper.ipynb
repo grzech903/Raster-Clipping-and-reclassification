{
  "nbformat": 4,
  "nbformat_minor": 0,
  "metadata": {
    "colab": {
      "provenance": [],
      "machine_shape": "hm",
      "authorship_tag": "ABX9TyMNKpJ0VKSWkGVKuURGTpJP",
      "include_colab_link": true
    },
    "kernelspec": {
      "name": "python3",
      "display_name": "Python 3"
    },
    "language_info": {
      "name": "python"
    }
  },
  "cells": [
    {
      "cell_type": "markdown",
      "metadata": {
        "id": "view-in-github",
        "colab_type": "text"
      },
      "source": [
        "<a href=\"https://colab.research.google.com/github/grzech903/Raster-Clipping-and-reclassification/blob/main/forest_clipper.ipynb\" target=\"_parent\"><img src=\"https://colab.research.google.com/assets/colab-badge.svg\" alt=\"Open In Colab\"/></a>"
      ]
    },
    {
      "cell_type": "code",
      "execution_count": null,
      "metadata": {
        "colab": {
          "base_uri": "https://localhost:8080/"
        },
        "id": "d39dVxU0G8i4",
        "outputId": "570fdcb7-eb58-4b73-f0e7-581c4c11814c"
      },
      "outputs": [
        {
          "output_type": "stream",
          "name": "stdout",
          "text": [
            "Collecting rasterio\n",
            "  Downloading rasterio-1.3.9-cp310-cp310-manylinux2014_x86_64.whl (20.6 MB)\n",
            "\u001b[2K     \u001b[90m━━━━━━━━━━━━━━━━━━━━━━━━━━━━━━━━━━━━━━━━\u001b[0m \u001b[32m20.6/20.6 MB\u001b[0m \u001b[31m94.2 MB/s\u001b[0m eta \u001b[36m0:00:00\u001b[0m\n",
            "\u001b[?25hCollecting affine (from rasterio)\n",
            "  Downloading affine-2.4.0-py3-none-any.whl (15 kB)\n",
            "Requirement already satisfied: attrs in /usr/local/lib/python3.10/dist-packages (from rasterio) (23.1.0)\n",
            "Requirement already satisfied: certifi in /usr/local/lib/python3.10/dist-packages (from rasterio) (2023.11.17)\n",
            "Requirement already satisfied: click>=4.0 in /usr/local/lib/python3.10/dist-packages (from rasterio) (8.1.7)\n",
            "Requirement already satisfied: cligj>=0.5 in /usr/local/lib/python3.10/dist-packages (from rasterio) (0.7.2)\n",
            "Requirement already satisfied: numpy in /usr/local/lib/python3.10/dist-packages (from rasterio) (1.23.5)\n",
            "Collecting snuggs>=1.4.1 (from rasterio)\n",
            "  Downloading snuggs-1.4.7-py3-none-any.whl (5.4 kB)\n",
            "Requirement already satisfied: click-plugins in /usr/local/lib/python3.10/dist-packages (from rasterio) (1.1.1)\n",
            "Requirement already satisfied: setuptools in /usr/local/lib/python3.10/dist-packages (from rasterio) (67.7.2)\n",
            "Requirement already satisfied: pyparsing>=2.1.6 in /usr/local/lib/python3.10/dist-packages (from snuggs>=1.4.1->rasterio) (3.1.1)\n",
            "Installing collected packages: snuggs, affine, rasterio\n",
            "Successfully installed affine-2.4.0 rasterio-1.3.9 snuggs-1.4.7\n"
          ]
        }
      ],
      "source": [
        "!pip install rasterio"
      ]
    },
    {
      "cell_type": "code",
      "source": [
        "from google.colab import drive\n",
        "drive.mount('/content/drive')"
      ],
      "metadata": {
        "colab": {
          "base_uri": "https://localhost:8080/"
        },
        "id": "APT31Ol6HEhq",
        "outputId": "93023b86-c3a5-4c39-d4af-c6acca9c206f"
      },
      "execution_count": null,
      "outputs": [
        {
          "output_type": "stream",
          "name": "stdout",
          "text": [
            "Mounted at /content/drive\n"
          ]
        }
      ]
    },
    {
      "cell_type": "code",
      "source": [
        "import os\n",
        "import rasterio\n",
        "from rasterio.mask import mask\n",
        "from rasterio.windows import Window\n",
        "import numpy as np\n",
        "from tqdm import tqdm\n",
        "import geopandas as gpd\n",
        "from shapely.geometry import box, mapping"
      ],
      "metadata": {
        "id": "4PEEtmodNP9f"
      },
      "execution_count": null,
      "outputs": []
    },
    {
      "cell_type": "code",
      "execution_count": null,
      "metadata": {
        "colab": {
          "base_uri": "https://localhost:8080/"
        },
        "id": "8uyspS9B7t_1",
        "outputId": "2ec6de55-849b-4c36-f6e4-f9a39205b33f"
      },
      "outputs": [
        {
          "output_type": "stream",
          "name": "stderr",
          "text": [
            "Processing: 100%|██████████| 290/290 [09:53<00:00,  2.05s/it]\n"
          ]
        },
        {
          "output_type": "stream",
          "name": "stdout",
          "text": [
            "Reclassification completed. Result saved to: /content/drive/MyDrive/colab/aus/ReclassifiedRaster.tif\n"
          ]
        }
      ],
      "source": [
        "\n",
        "\n",
        "# reclassification classes\n",
        "reclass_values = [\n",
        "    (0, 0),    # Class 1: 0-0\n",
        "    (1, 15),   # Class 2: 1-15\n",
        "    (16, 30),  # Class 3: 16-30\n",
        "    (30, 60),  # Class 4: 30-60\n",
        "    (61, 999)  # Class 5: Anything above 60\n",
        "]\n",
        "\n",
        "# reclassification\n",
        "raster_path = '/content/drive/MyDrive/colab/Forest_height_2019_AUS.tif'\n",
        "outdir = '/content/drive/MyDrive/colab/aus'\n",
        "\n",
        "def reclassify_raster(input_path, output_path, reclass_values, block_size=512):\n",
        "    with rasterio.open(input_path) as src:\n",
        "        profile = src.profile\n",
        "\n",
        "\n",
        "        with rasterio.open(output_path, 'w', **profile) as dst:\n",
        "            width = src.width\n",
        "            height = src.height\n",
        "\n",
        "\n",
        "            for i in tqdm(range(0, height, block_size), desc=\"Processing\"):\n",
        "                for j in range(0, width, block_size):\n",
        "                    window = Window(j, i, min(block_size, width - j), min(block_size, height - i))\n",
        "\n",
        "                    block = src.read(1, window=window, masked=True)\n",
        "\n",
        "                    for index, reclass in enumerate(reclass_values):\n",
        "                        lower_bound, upper_bound = reclass\n",
        "                        mask = (block >= lower_bound) & (block <= upper_bound)\n",
        "                        block = np.where(mask, index + 1, block)\n",
        "\n",
        "                    dst.write(block, 1, window=window)\n",
        "\n",
        "    print(f\"Reclassification completed. Result saved to: {output_path}\")\n",
        "\n",
        "reclassify_raster(raster_path, os.path.join(outdir, 'ReclassifiedRaster.tif'), reclass_values, block_size=512)\n",
        "\n",
        "\n"
      ]
    },
    {
      "cell_type": "code",
      "source": [
        "\n",
        "\n",
        "# removal of unnecessary countries from the raster\n",
        "\n",
        "raster_path = '/content/drive/MyDrive/colab/aus/ReclassifiedRaster.tif'\n",
        "geojson_path = '/content/drive/MyDrive/colab/countries.geojson'\n",
        "outdir = '/content/drive/MyDrive/colab/aus/limited_countries'\n",
        "\n",
        "def limit_geojson_to_raster_extent(raster_path, geojson_path, outdir):\n",
        "    os.makedirs(outdir, exist_ok=True)\n",
        "    with rasterio.open(raster_path) as src:\n",
        "        raster_bounds = src.bounds\n",
        "    countries = gpd.read_file(geojson_path)\n",
        "\n",
        "    raster_geom = box(*raster_bounds)\n",
        "\n",
        "    countries_clipped = countries[countries.geometry.intersects(raster_geom)]\n",
        "    countries_clipped = countries_clipped.assign(geometry=countries_clipped.intersection(raster_geom))\n",
        "\n",
        "    clipped_geojson_path = os.path.join(outdir, 'clipped_countries.geojson')\n",
        "    countries_clipped.to_file(clipped_geojson_path, driver='GeoJSON')\n",
        "\n",
        "    print(f\"Clipped GeoJSON saved to: {clipped_geojson_path}\")\n",
        "\n",
        "\n",
        "limit_geojson_to_raster_extent(raster_path, geojson_path, outdir)"
      ],
      "metadata": {
        "colab": {
          "base_uri": "https://localhost:8080/"
        },
        "id": "mn7cHP5hHPog",
        "outputId": "57108960-708c-4a32-c790-9008fce980be"
      },
      "execution_count": null,
      "outputs": [
        {
          "output_type": "stream",
          "name": "stdout",
          "text": [
            "Clipped GeoJSON saved to: /content/drive/MyDrive/colab/aus/limited_countries/clipped_countries.geojson\n"
          ]
        }
      ]
    },
    {
      "cell_type": "code",
      "source": [
        "\n",
        "\n",
        "# Preparation of polygons of individual countries\n",
        "\n",
        "geojson_path = '/content/drive/MyDrive/colab/aus/limited_countries/clipped_countries.geojson'\n",
        "outdir = '/content/drive/MyDrive/colab/aus/countrynam'\n",
        "\n",
        "gdf = gpd.read_file(geojson_path)\n",
        "for index, country in gdf.iterrows():\n",
        "    country_name = country['ADMIN']\n",
        "\n",
        "\n",
        "    country_name_no_space = country_name.replace(' ', '')\n",
        "\n",
        "    country_outpath = os.path.join(outdir, f'{country_name_no_space}.geojson')\n",
        "\n",
        "\n",
        "    single_country_gdf = gpd.GeoDataFrame(geometry=[country.geometry], crs=gdf.crs)\n",
        "\n",
        "\n",
        "    single_country_gdf.to_file(country_outpath, driver='GeoJSON')\n",
        "\n",
        "    print(f'Zapisano plik dla kraju: {country_name}')"
      ],
      "metadata": {
        "colab": {
          "base_uri": "https://localhost:8080/"
        },
        "id": "IvklKJIjHPrI",
        "outputId": "1d6348df-07c6-4f74-f4e5-86c2c0498c1b"
      },
      "execution_count": null,
      "outputs": [
        {
          "output_type": "stream",
          "name": "stdout",
          "text": [
            "Zapisano plik dla kraju: Ashmore and Cartier Islands\n",
            "Zapisano plik dla kraju: Australia\n",
            "Zapisano plik dla kraju: Coral Sea Islands\n",
            "Zapisano plik dla kraju: Fiji\n",
            "Zapisano plik dla kraju: New Caledonia\n",
            "Zapisano plik dla kraju: Norfolk Island\n",
            "Zapisano plik dla kraju: New Zealand\n",
            "Zapisano plik dla kraju: Papua New Guinea\n",
            "Zapisano plik dla kraju: Solomon Islands\n",
            "Zapisano plik dla kraju: Vanuatu\n"
          ]
        }
      ]
    },
    {
      "cell_type": "code",
      "source": [
        "\n",
        "\n",
        "\n",
        "# Cliping the raster to country size.\n",
        "# I am omitting here large geojesons with a large number of vertrexes because I do not have enough memory to cut them using this method. Big geojeson i extrack manualy with  GDAL in qgis (I couldn't get the gdal to work in colaba )\n",
        "\n",
        "def list_large_geojson(geojson_folder, max_size=100000):\n",
        "    large_files = []\n",
        "    for file in os.listdir(geojson_folder):\n",
        "        if file.endswith('.geojson'):\n",
        "            file_path = os.path.join(geojson_folder, file)\n",
        "            file_size = os.path.getsize(file_path)\n",
        "            if file_size > max_size:\n",
        "                large_files.append((file, file_size))\n",
        "    return large_files\n",
        "\n",
        "\n",
        "polygons_folder = '/content/drive/MyDrive/colab/aus/countrynam'\n",
        "raster_path = '/content/drive/MyDrive/colab/aus/ReclassifiedRaster.tif'\n",
        "outdir = '/content/drive/MyDrive/colab/aus/country_rasters'\n",
        "\n",
        "\n",
        "polygon_files = [os.path.join(polygons_folder, file) for file in os.listdir(polygons_folder) if file.endswith('.geojson')]\n",
        "large_geojson_files = list_large_geojson(polygons_folder)\n",
        "\n",
        "\n",
        "with rasterio.open(raster_path) as src:\n",
        "    for polygon_file in tqdm(polygon_files, desc='Processing Countries', unit='country', leave=False):\n",
        "        if polygon_file in [os.path.join(polygons_folder, file[0]) for file in large_geojson_files]:\n",
        "            tqdm.write(f\"Pomiń plik: {os.path.basename(polygon_file)} (większy niż 100 KB)\")\n",
        "            continue\n",
        "\n",
        "        country_name = os.path.splitext(os.path.basename(polygon_file))[0]\n",
        "        country_gdf = gpd.read_file(polygon_file)\n",
        "\n",
        "        for index, country_polygon in country_gdf.iterrows():\n",
        "            try:\n",
        "                out_image, out_transform = mask(src, [country_polygon.geometry], crop=True)\n",
        "\n",
        "\n",
        "                out_meta = src.meta.copy()\n",
        "                out_meta.update({\n",
        "                    \"driver\": \"GTiff\",\n",
        "                    \"height\": out_image.shape[1],\n",
        "                    \"width\": out_image.shape[2],\n",
        "                    \"transform\": out_transform\n",
        "                })\n",
        "\n",
        "                country_outpath = os.path.join(outdir, f'{country_name}_{index}.tif')\n",
        "\n",
        "                with rasterio.open(country_outpath, \"w\", **out_meta) as dest:\n",
        "                    dest.write(out_image)\n",
        "\n",
        "                tqdm.write(f'Zapisano plik dla kraju: {country_name}_{index}.tif')\n",
        "\n",
        "            finally:\n",
        "                out_image = None\n",
        "                out_transform = None\n",
        "                out_meta = None\n"
      ],
      "metadata": {
        "colab": {
          "base_uri": "https://localhost:8080/"
        },
        "id": "wVbX914QHd_x",
        "outputId": "1e5eb8b0-8e28-466c-8f04-7589dccd90c9"
      },
      "execution_count": null,
      "outputs": [
        {
          "output_type": "stream",
          "name": "stderr",
          "text": [
            "Processing Countries:   0%|          | 0/10 [00:00<?, ?country/s]"
          ]
        },
        {
          "output_type": "stream",
          "name": "stdout",
          "text": [
            "Zapisano plik dla kraju: AshmoreandCartierIslands_0.tif\n",
            "Pomiń plik: Australia.geojson (większy niż 100 KB)\n",
            "Zapisano plik dla kraju: CoralSeaIslands_0.tif\n"
          ]
        },
        {
          "output_type": "stream",
          "name": "stderr",
          "text": [
            "Processing Countries:  40%|████      | 4/10 [00:23<00:34,  5.75s/country]"
          ]
        },
        {
          "output_type": "stream",
          "name": "stdout",
          "text": [
            "Zapisano plik dla kraju: Fiji_0.tif\n"
          ]
        },
        {
          "output_type": "stream",
          "name": "stderr",
          "text": [
            "Processing Countries:  60%|██████    | 6/10 [00:30<00:17,  4.44s/country]"
          ]
        },
        {
          "output_type": "stream",
          "name": "stdout",
          "text": [
            "Zapisano plik dla kraju: NewCaledonia_0.tif\n",
            "Zapisano plik dla kraju: NorfolkIsland_0.tif\n",
            "Pomiń plik: NewZealand.geojson (większy niż 100 KB)\n"
          ]
        },
        {
          "output_type": "stream",
          "name": "stderr",
          "text": [
            "Processing Countries:  80%|████████  | 8/10 [00:30<00:05,  2.69s/country]"
          ]
        },
        {
          "output_type": "stream",
          "name": "stdout",
          "text": [
            "Zapisano plik dla kraju: PapuaNewGuinea_0.tif\n"
          ]
        },
        {
          "output_type": "stream",
          "name": "stderr",
          "text": [
            "Processing Countries:  90%|█████████ | 9/10 [00:33<00:02,  2.69s/country]"
          ]
        },
        {
          "output_type": "stream",
          "name": "stdout",
          "text": [
            "Zapisano plik dla kraju: SolomonIslands_0.tif\n"
          ]
        },
        {
          "output_type": "stream",
          "name": "stderr",
          "text": [
            "                                                                          "
          ]
        },
        {
          "output_type": "stream",
          "name": "stdout",
          "text": [
            "Zapisano plik dla kraju: Vanuatu_0.tif\n"
          ]
        },
        {
          "output_type": "stream",
          "name": "stderr",
          "text": [
            "\r"
          ]
        }
      ]
    },
    {
      "cell_type": "code",
      "source": [],
      "metadata": {
        "id": "lh9IFGyOkEo_"
      },
      "execution_count": null,
      "outputs": []
    },
    {
      "cell_type": "code",
      "source": [
        "#List of countries to be done manually\n",
        "\n",
        "input_geojson_folder = '/content/drive/MyDrive/colab/nam/countrynam'\n",
        "\n",
        "def list_large_geojson_files(folder_path, size_threshold_kb=100):\n",
        "    large_files = []\n",
        "\n",
        "    for filename in os.listdir(folder_path):\n",
        "        file_path = os.path.join(folder_path, filename)\n",
        "        if filename.endswith('.geojson') and os.path.getsize(file_path) / 1024 > size_threshold_kb:\n",
        "            large_files.append(filename)\n",
        "\n",
        "    return large_files\n",
        "\n",
        "large_geojson_files = list_large_geojson_files(input_geojson_folder)\n",
        "\n",
        "print(\"Pliki GeoJSON powyżej 100 KB:\")\n",
        "for file in large_geojson_files:\n",
        "    print(file)"
      ],
      "metadata": {
        "colab": {
          "base_uri": "https://localhost:8080/"
        },
        "id": "iXLGAeIlHeK2",
        "outputId": "6bbee4a3-6ad7-4658-fb8a-9a0880efbea1"
      },
      "execution_count": null,
      "outputs": [
        {
          "output_type": "stream",
          "name": "stdout",
          "text": [
            "Pliki GeoJSON powyżej 100 KB:\n",
            "Canada.geojson\n",
            "Cuba.geojson\n",
            "Mexico.geojson\n",
            "UnitedStatesofAmerica.geojson\n",
            "big.geojson\n"
          ]
        }
      ]
    }
  ]
}